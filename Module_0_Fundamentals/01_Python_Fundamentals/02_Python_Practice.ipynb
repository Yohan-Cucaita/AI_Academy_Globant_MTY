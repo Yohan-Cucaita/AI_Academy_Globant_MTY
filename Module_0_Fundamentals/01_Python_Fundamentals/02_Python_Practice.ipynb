{
 "cells": [
  {
   "cell_type": "code",
   "execution_count": 1,
   "metadata": {},
   "outputs": [
    {
     "name": "stdout",
     "output_type": "stream",
     "text": [
      "8\n"
     ]
    }
   ],
   "source": [
    "# Exercise 1\n",
    "# Write a program that takes two numbers as input and displays the difference between them.\n",
    "\n",
    "number1 = 5\n",
    "number2 = 3"
   ]
  },
  {
   "cell_type": "code",
   "execution_count": null,
   "metadata": {},
   "outputs": [],
   "source": [
    "# Exercise 2\n",
    "# Create a function that takes a string as an argument and prints it in uppercase.\n",
    "def parameterToUpperCase(parameter):\n",
    "    print(parameter.upper())   "
   ]
  },
  {
   "cell_type": "code",
   "execution_count": null,
   "metadata": {},
   "outputs": [],
   "source": [
    "# Exercise 3\n",
    "# Write a program that takes a list of numbers as input and displays the largest number in the list.\n",
    "\n",
    "numbers = [4, 2, 9, 5, 1]\n",
    "numbers.sort(reverse=True)\n",
    "print(numbers[0])"
   ]
  },
  {
   "cell_type": "code",
   "execution_count": 3,
   "metadata": {},
   "outputs": [],
   "source": [
    "# Exercise 4\n",
    "# Create a function that takes a text string and counts the number of letters it contains.\n",
    "\n",
    "def validateCountCharacterInString(parameter):\n",
    "    if type(parameter)==str:\n",
    "        print(len(parameter))\n",
    "    else:\n",
    "        print(\"the parameter is not a string value\")\n"
   ]
  },
  {
   "cell_type": "code",
   "execution_count": 2,
   "metadata": {},
   "outputs": [
    {
     "name": "stdout",
     "output_type": "stream",
     "text": [
      "5\n",
      "5\n",
      "6\n"
     ]
    }
   ],
   "source": [
    "# Exercise 5\n",
    "# Write a program that takes a list of words as input and displays the length of each word in the list.\n",
    "\n",
    "words = [\"hello\", \"world\", \"python\"]\n",
    "\n",
    "def countListItems(words):\n",
    "    for item in words:\n",
    "        print(len(item))\n",
    "\n",
    "countListItems(words)        \n"
   ]
  },
  {
   "cell_type": "code",
   "execution_count": null,
   "metadata": {},
   "outputs": [],
   "source": [
    "# Exercise 6\n",
    "# Create a function that takes two numbers as arguments and returns the result of multiplying them.\n",
    "\n",
    "numOne = 7\n",
    "numTwo = 6\n",
    "\n",
    "def multiplyNumbers(numOne, numTwo):\n",
    "    if type(numOne) == int and type(numTwo) == int :\n",
    "        print(numOne*numTwo)\n",
    "    else:\n",
    "        print(\"incorrect parameter to execute the function\")\n",
    "\n",
    "multiplyNumbers(numOne, numTwo)\n"
   ]
  },
  {
   "cell_type": "code",
   "execution_count": null,
   "metadata": {},
   "outputs": [],
   "source": [
    "# Exercise 7\n",
    "# Write a program that takes a list of numbers as input and displays only the even numbers in the list.\n",
    "\n",
    "numberItems = [2,15,35,59,80,132]\n",
    "\n",
    "def evenNumber(numberItems):\n",
    "    for item in numberItems:\n",
    "        if(item%2==0):\n",
    "            print(\"{} is even number\".format(item))\n",
    "\n",
    "evenNumber(numberItems)"
   ]
  },
  {
   "cell_type": "code",
   "execution_count": null,
   "metadata": {},
   "outputs": [],
   "source": [
    "# Exercise 8\n",
    "# Create a function that takes a string and returns the inverted string.\n",
    "\n",
    "message = \"nohtyp gninrael\"\n",
    "\n",
    "def inverseWord(word):\n",
    "    print(word [::-1])\n",
    "\n",
    "inverseWord(message)\n",
    "\n"
   ]
  },
  {
   "cell_type": "code",
   "execution_count": null,
   "metadata": {},
   "outputs": [],
   "source": [
    "# Exercise 9\n",
    "# Write a program that takes a list of words as input and displays only words beginning with the letter 'a'.\n",
    "\n",
    "words = [\"car\", \"apple\", \"airplane\", \"dog\", \"cat\"]\n"
   ]
  },
  {
   "cell_type": "code",
   "execution_count": null,
   "metadata": {},
   "outputs": [],
   "source": [
    "# Exercise 10\n",
    "# Create a function that takes a list of numbers as an argument and returns the sum of all the numbers in the list.\n"
   ]
  }
 ],
 "metadata": {
  "kernelspec": {
   "display_name": "Python 3",
   "language": "python",
   "name": "python3"
  },
  "language_info": {
   "codemirror_mode": {
    "name": "ipython",
    "version": 3
   },
   "file_extension": ".py",
   "mimetype": "text/x-python",
   "name": "python",
   "nbconvert_exporter": "python",
   "pygments_lexer": "ipython3",
   "version": "3.12.0"
  },
  "orig_nbformat": 4,
  "vscode": {
   "interpreter": {
    "hash": "aee8b7b246df8f9039afb4144a1f6fd8d2ca17a180786b69acc140d282b71a49"
   }
  }
 },
 "nbformat": 4,
 "nbformat_minor": 2
}
