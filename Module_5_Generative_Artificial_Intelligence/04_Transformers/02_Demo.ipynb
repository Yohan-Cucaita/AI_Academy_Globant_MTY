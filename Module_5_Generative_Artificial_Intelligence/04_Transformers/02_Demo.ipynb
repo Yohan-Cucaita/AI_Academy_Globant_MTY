{
 "cells": [
  {
   "cell_type": "markdown",
   "metadata": {},
   "source": [
    "# Description\n",
    "\n",
    "To create a basic demonstration of how transformers work, let's set up a simple transformer model for sequence-to-sequence generation using PyTorch. We will implement a basic transformer for demonstration purposes, focusing on the core components without diving into advanced customizations"
   ]
  },
  {
   "cell_type": "markdown",
   "metadata": {},
   "source": [
    "### First, ensure you have PyTorch installed using torch"
   ]
  },
  {
   "cell_type": "code",
   "execution_count": null,
   "metadata": {},
   "outputs": [],
   "source": [
    "pip install torch"
   ]
  },
  {
   "cell_type": "markdown",
   "metadata": {},
   "source": [
    "Basic Python demo illustrating a transformer in action:"
   ]
  },
  {
   "cell_type": "code",
   "execution_count": 4,
   "metadata": {},
   "outputs": [
    {
     "ename": "ModuleNotFoundError",
     "evalue": "No module named 'torch'",
     "output_type": "error",
     "traceback": [
      "\u001b[0;31m---------------------------------------------------------------------------\u001b[0m",
      "\u001b[0;31mModuleNotFoundError\u001b[0m                       Traceback (most recent call last)",
      "Cell \u001b[0;32mIn[4], line 1\u001b[0m\n\u001b[0;32m----> 1\u001b[0m \u001b[38;5;28;01mimport\u001b[39;00m \u001b[38;5;21;01mtorch\u001b[39;00m\n\u001b[1;32m      2\u001b[0m \u001b[38;5;28;01mimport\u001b[39;00m \u001b[38;5;21;01mtorch\u001b[39;00m\u001b[38;5;21;01m.\u001b[39;00m\u001b[38;5;21;01mnn\u001b[39;00m \u001b[38;5;28;01mas\u001b[39;00m \u001b[38;5;21;01mnn\u001b[39;00m\n\u001b[1;32m      3\u001b[0m \u001b[38;5;28;01mimport\u001b[39;00m \u001b[38;5;21;01mtorch\u001b[39;00m\u001b[38;5;21;01m.\u001b[39;00m\u001b[38;5;21;01moptim\u001b[39;00m \u001b[38;5;28;01mas\u001b[39;00m \u001b[38;5;21;01moptim\u001b[39;00m\n",
      "\u001b[0;31mModuleNotFoundError\u001b[0m: No module named 'torch'"
     ]
    }
   ],
   "source": [
    "import torch\n",
    "import torch.nn as nn\n",
    "import torch.optim as optim\n",
    "from torch.nn import Transformer\n",
    "import math\n",
    "\n",
    "# Set device\n",
    "device = torch.device(\"cuda\" if torch.cuda.is_available() else \"cpu\")\n",
    "\n",
    "# Define constants\n",
    "input_dim = 512  # Dimension of input\n",
    "seq_length = 10  # Sequence length\n",
    "batch_size = 16  # Batch size\n",
    "n_heads = 8      # Number of attention heads\n",
    "num_layers = 3   # Number of encoder/decoder layers\n",
    "dropout = 0.1    # Dropout rate\n",
    "\n",
    "# Positional Encoding for providing position information to sequences\n",
    "class PositionalEncoding(nn.Module):\n",
    "    def __init__(self, d_model, max_len=seq_length):\n",
    "        super(PositionalEncoding, self).__init__()\n",
    "        pe = torch.zeros(max_len, d_model)\n",
    "        position = torch.arange(0, max_len, dtype=torch.float).unsqueeze(1)\n",
    "        div_term = torch.exp(torch.arange(0, d_model, 2).float() * (-math.log(10000.0) / d_model))\n",
    "        pe[:, 0::2] = torch.sin(position * div_term)\n",
    "        pe[:, 1::2] = torch.cos(position * div_term)\n",
    "        pe = pe.unsqueeze(0).transpose(0, 1)\n",
    "        self.register_buffer('pe', pe)\n",
    "\n",
    "    def forward(self, x):\n",
    "        return x + self.pe[:x.size(0), :]\n",
    "\n",
    "# Define the transformer model\n",
    "class SimpleTransformer(nn.Module):\n",
    "    def __init__(self, input_dim, seq_length, n_heads, num_layers, dropout):\n",
    "        super(SimpleTransformer, self).__init__()\n",
    "        self.embedding = nn.Embedding(input_dim, input_dim)\n",
    "        self.positional_encoding = PositionalEncoding(input_dim)\n",
    "        self.transformer = Transformer(d_model=input_dim, nhead=n_heads, num_encoder_layers=num_layers, \n",
    "                                       num_decoder_layers=num_layers, dropout=dropout)\n",
    "        self.fc_out = nn.Linear(input_dim, input_dim)\n",
    "    \n",
    "    def forward(self, src, tgt):\n",
    "        src = self.embedding(src) * math.sqrt(input_dim)\n",
    "        src = self.positional_encoding(src)\n",
    "        tgt = self.embedding(tgt) * math.sqrt(input_dim)\n",
    "        tgt = self.positional_encoding(tgt)\n",
    "        output = self.transformer(src, tgt)\n",
    "        return self.fc_out(output)\n",
    "\n",
    "# Create random data for demonstration\n",
    "src = torch.randint(0, input_dim, (seq_length, batch_size)).to(device)\n",
    "tgt = torch.randint(0, input_dim, (seq_length, batch_size)).to(device)\n",
    "\n",
    "# Initialize model, criterion and optimizer\n",
    "model = SimpleTransformer(input_dim, seq_length, n_heads, num_layers, dropout).to(device)\n",
    "criterion = nn.CrossEntropyLoss()\n",
    "optimizer = optim.Adam(model.parameters(), lr=0.001)\n",
    "\n",
    "# Training loop (simple demonstration)\n",
    "model.train()\n",
    "for epoch in range(5):  # Run for a few epochs\n",
    "    optimizer.zero_grad()\n",
    "    output = model(src, tgt)\n",
    "    loss = criterion(output.view(-1, input_dim), tgt.view(-1))\n",
    "    loss.backward()\n",
    "    optimizer.step()\n",
    "    print(f\"Epoch {epoch+1}, Loss: {loss.item():.4f}\")\n",
    "\n",
    "print(\"Demo complete. This shows the basics of using a Transformer model for sequence transformation.\")\n"
   ]
  },
  {
   "cell_type": "markdown",
   "metadata": {},
   "source": [
    "### Explanation:\n",
    "\n",
    "- **Positional Encoding:** Adds positional information to input embeddings, critical since transformers have no inherent sequential bias.\n",
    "- **Simple Transformer:** Defines an encoder-decoder structure with self-attention layers and embedding layers.\n",
    "- **Training:** The model is trained on random data for demonstration purposes.\n",
    "\n",
    "This is a basic demonstration, and production-level models involve significantly more sophistication, such as masking, padding, and optimized training routines."
   ]
  }
 ],
 "metadata": {
  "kernelspec": {
   "display_name": "Python 3",
   "language": "python",
   "name": "python3"
  },
  "language_info": {
   "codemirror_mode": {
    "name": "ipython",
    "version": 3
   },
   "file_extension": ".py",
   "mimetype": "text/x-python",
   "name": "python",
   "nbconvert_exporter": "python",
   "pygments_lexer": "ipython3",
   "version": "3.12.5"
  }
 },
 "nbformat": 4,
 "nbformat_minor": 2
}
