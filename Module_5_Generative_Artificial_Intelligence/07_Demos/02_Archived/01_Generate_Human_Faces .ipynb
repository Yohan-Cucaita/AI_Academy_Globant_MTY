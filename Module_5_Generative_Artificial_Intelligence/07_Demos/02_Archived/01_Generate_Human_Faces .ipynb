{
 "cells": [
  {
   "cell_type": "markdown",
   "metadata": {},
   "source": [
    "# Introduction\n",
    "\n",
    "To generate human faces using GANs, you can use a pre-trained model or create your own GAN model from scratch. However, training a GAN to generate high-quality human faces requires significant computational resources. A more practical approach would be to use an already trained model like StyleGAN2 or BigGAN, which are popular choices for generating realistic human faces.\n",
    "\n",
    "For simplicity, I'll walk you through using **StyleGAN2** with a pre-trained model to generate human faces. You can use the **torch** and **torchvision** libraries in Python to interact with the model. Here's a Python script that demonstrates how to generate human faces using a pre-trained **StyleGAN2** model."
   ]
  },
  {
   "cell_type": "markdown",
   "metadata": {},
   "source": [
    "### Step 1: Install Dependencies\n",
    "\n",
    "You need to install the following Python libraries:"
   ]
  },
  {
   "cell_type": "code",
   "execution_count": 1,
   "metadata": {},
   "outputs": [
    {
     "name": "stdout",
     "output_type": "stream",
     "text": [
      "Note: you may need to restart the kernel to use updated packages.\n",
      "Requirement already satisfied: torch in c:\\users\\miguel.peraza\\appdata\\local\\programs\\python\\python312\\lib\\site-packages (2.3.1)\n",
      "Requirement already satisfied: torchvision in c:\\users\\miguel.peraza\\appdata\\local\\programs\\python\\python312\\lib\\site-packages (0.18.1)\n",
      "Requirement already satisfied: numpy in c:\\users\\miguel.peraza\\appdata\\local\\programs\\python\\python312\\lib\\site-packages (1.26.4)\n",
      "Requirement already satisfied: pillow in c:\\users\\miguel.peraza\\appdata\\local\\programs\\python\\python312\\lib\\site-packages (10.3.0)\n",
      "Requirement already satisfied: filelock in c:\\users\\miguel.peraza\\appdata\\local\\programs\\python\\python312\\lib\\site-packages (from torch) (3.15.4)\n",
      "Requirement already satisfied: typing-extensions>=4.8.0 in c:\\users\\miguel.peraza\\appdata\\local\\programs\\python\\python312\\lib\\site-packages (from torch) (4.12.2)\n",
      "Requirement already satisfied: sympy in c:\\users\\miguel.peraza\\appdata\\local\\programs\\python\\python312\\lib\\site-packages (from torch) (1.13.0)\n",
      "Requirement already satisfied: networkx in c:\\users\\miguel.peraza\\appdata\\local\\programs\\python\\python312\\lib\\site-packages (from torch) (3.3)\n",
      "Requirement already satisfied: jinja2 in c:\\users\\miguel.peraza\\appdata\\local\\programs\\python\\python312\\lib\\site-packages (from torch) (3.1.4)\n",
      "Requirement already satisfied: fsspec in c:\\users\\miguel.peraza\\appdata\\local\\programs\\python\\python312\\lib\\site-packages (from torch) (2024.6.1)\n",
      "Requirement already satisfied: mkl<=2021.4.0,>=2021.1.1 in c:\\users\\miguel.peraza\\appdata\\local\\programs\\python\\python312\\lib\\site-packages (from torch) (2021.4.0)\n",
      "Requirement already satisfied: intel-openmp==2021.* in c:\\users\\miguel.peraza\\appdata\\local\\programs\\python\\python312\\lib\\site-packages (from mkl<=2021.4.0,>=2021.1.1->torch) (2021.4.0)\n",
      "Requirement already satisfied: tbb==2021.* in c:\\users\\miguel.peraza\\appdata\\local\\programs\\python\\python312\\lib\\site-packages (from mkl<=2021.4.0,>=2021.1.1->torch) (2021.13.0)\n",
      "Requirement already satisfied: MarkupSafe>=2.0 in c:\\users\\miguel.peraza\\appdata\\local\\programs\\python\\python312\\lib\\site-packages (from jinja2->torch) (2.1.5)\n",
      "Requirement already satisfied: mpmath<1.4,>=1.1.0 in c:\\users\\miguel.peraza\\appdata\\local\\programs\\python\\python312\\lib\\site-packages (from sympy->torch) (1.3.0)\n"
     ]
    },
    {
     "name": "stderr",
     "output_type": "stream",
     "text": [
      "\n",
      "[notice] A new release of pip is available: 24.0 -> 24.3.1\n",
      "[notice] To update, run: python.exe -m pip install --upgrade pip\n"
     ]
    }
   ],
   "source": [
    "pip install torch torchvision numpy pillow"
   ]
  },
  {
   "cell_type": "markdown",
   "metadata": {},
   "source": [
    "### Step 2: Python Script to Generate Human Faces"
   ]
  },
  {
   "cell_type": "code",
   "execution_count": null,
   "metadata": {},
   "outputs": [],
   "source": [
    "import pickle\n",
    "import torch\n",
    "from torchvision import transforms\n",
    "from PIL import Image\n",
    "import numpy as np\n",
    "import urllib\n",
    "from io import BytesIO\n",
    "import torch.utils.benchmark\n",
    "\n",
    "# URL to the pre-trained StyleGAN2 model for generating human faces\n",
    "stylegan2_url = \"http://d36zk2xti64re0.cloudfront.net/stylegan2/networks/stylegan2-car-config-e.pkl\"\n",
    "\n",
    "# Download the pre-trained model\n",
    "def load_stylegan2_model(url):\n",
    "    with urllib.request.urlopen(url) as url_response:\n",
    "        model_file = BytesIO(url_response.read())\n",
    "    # Load pre-trained StyleGAN2 model using torch\n",
    "    stylegan2_model = torch.load(model_file)\n",
    "    return stylegan2_model\n",
    "\n",
    "# Load the pre-trained StyleGAN2 model\n",
    "def load_stylegan2_model_from_file(model_path):\n",
    "    with open(model_path, \"rb\") as f:\n",
    "        # Load the model from a .pkl file (pre-trained)\n",
    "        G, D, G_kwargs, D_kwargs = pickle.load(f)\n",
    "    return G\n",
    "\n",
    "# Generate a random latent vector (z) from which the generator will create an image\n",
    "def generate_latent_vector(latent_dim=512):\n",
    "    return torch.randn(1, latent_dim)\n",
    "\n",
    "# Function to generate human face from a latent vector\n",
    "def generate_face(stylegan2_model, latent_vector):\n",
    "    # Generate the face image using the model's generator\n",
    "    with torch.no_grad():\n",
    "        generated_image = stylegan2_model(latent_vector)\n",
    "    return generated_image\n",
    "\n",
    "# Function to post-process the image (convert tensor to image)\n",
    "def process_image(tensor):\n",
    "    transform = transforms.Compose([\n",
    "        transforms.ToPILImage(),\n",
    "        transforms.Resize((256, 256)),\n",
    "        transforms.ToTensor()\n",
    "    ])\n",
    "    return transform(tensor)\n",
    "\n",
    "# Main function to load model and generate face\n",
    "def main():\n",
    "    # Load the pre-trained StyleGAN2 model\n",
    "    model_path = \"stylegan_human_v2_1024.pkl\"\n",
    "    # model = load_stylegan2_model(stylegan2_url)\n",
    "    model = load_stylegan2_model_from_file(model_path)\n",
    "    \n",
    "    # Generate a latent vector (input for the generator)\n",
    "    latent_vector = generate_latent_vector()\n",
    "    \n",
    "    # Generate human face\n",
    "    face_tensor = generate_face(model, latent_vector)\n",
    "    \n",
    "    # Process and display the generated image\n",
    "    face_image = process_image(face_tensor)\n",
    "    face_image.show()\n",
    "\n",
    "if __name__ == \"__main__\":\n",
    "    main()\n"
   ]
  },
  {
   "cell_type": "markdown",
   "metadata": {},
   "source": [
    "#### Explanation:\n",
    "\n",
    "1. **Loading the pre-trained model:** The script loads a StyleGAN2 model from a URL. StyleGAN2 is capable of generating high-quality images, including human faces, once you provide it with a latent vector.\n",
    "2. **Generating a latent vector:** A random latent vector is created. This vector is essentially the input to the generator network in the GAN model.\n",
    "3. **Generating the face:** The latent vector is passed to the generator of StyleGAN2 to create a synthetic human face.\n",
    "4. **Processing and displaying the image:** After generating the face, the script processes the tensor output into an image that can be displayed using PIL."
   ]
  },
  {
   "cell_type": "markdown",
   "metadata": {},
   "source": [
    "#### Notes:\n",
    "\n",
    "- **Model:** This example assumes the use of a pre-trained model available online, which simplifies the process of generating human faces. In a real scenario, you'd train the GAN yourself, which is computationally expensive.\n",
    "- **Output:** The script generates and displays a face image based on a random latent vector. "
   ]
  },
  {
   "cell_type": "markdown",
   "metadata": {},
   "source": [
    "#### Pre-trained Models:\n",
    "\n",
    "To get started with human face generation, I recommend using a pre-trained StyleGAN2 or BigGAN model for fast results. These models are already trained on large datasets and are able to generate high-quality faces with minimal setup. You can find these models on platforms like Google Colab or repositories like [StyleGAN2 GitHub](https://github.com/NVlabs/stylegan2)."
   ]
  }
 ],
 "metadata": {
  "kernelspec": {
   "display_name": "Python 3",
   "language": "python",
   "name": "python3"
  },
  "language_info": {
   "codemirror_mode": {
    "name": "ipython",
    "version": 3
   },
   "file_extension": ".py",
   "mimetype": "text/x-python",
   "name": "python",
   "nbconvert_exporter": "python",
   "pygments_lexer": "ipython3",
   "version": "3.12.3"
  }
 },
 "nbformat": 4,
 "nbformat_minor": 2
}
