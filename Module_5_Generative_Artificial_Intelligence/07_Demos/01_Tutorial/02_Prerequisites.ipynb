{
 "cells": [
  {
   "cell_type": "markdown",
   "metadata": {},
   "source": [
    "## Prerequisites\n",
    "\n",
    "Before diving into coding, you need to set up the environment and libraries:\n",
    "\n",
    "1. **Install Python and Required Libraries:** You need to install Python (preferably Python 3.x) and the required libraries. For generating faces, we'll use:\n",
    "    - <mark>torch</mark>: PyTorch, a popular deep learning library.\n",
    "    - <mark>numpy</mark>: For numerical operations.\n",
    "    - <mark>pillow</mark>: For image handling.\n",
    "    - <mark>dnnlib</mark>: A utility library used by StyleGAN2.\n",
    "    - <mark>pretrained_networks</mark>: Contains pre-trained models for generating images like faces."
   ]
  },
  {
   "cell_type": "markdown",
   "metadata": {},
   "source": [
    "2. **Set up the Python environment:**"
   ]
  },
  {
   "cell_type": "code",
   "execution_count": null,
   "metadata": {},
   "outputs": [],
   "source": [
    "# Install PyTorch (with GPU support if possible)\n",
    "pip install torch torchvision\n",
    "\n",
    "# Install other dependencies\n",
    "pip install numpy pillow dnnlib"
   ]
  },
  {
   "cell_type": "markdown",
   "metadata": {},
   "source": [
    "**_Dev Notes:_** _When installing the dnnlib you might required to do additional steps since that particualr librarie requires special NVidia supported hardware configuration plus other software libraries like C++ SDK installed._"
   ]
  },
  {
   "cell_type": "markdown",
   "metadata": {},
   "source": [
    "3. **Download StyleGAN2 Repository:** Clone the official StyleGAN2 repository from NVIDIA's GitHub."
   ]
  },
  {
   "cell_type": "code",
   "execution_count": null,
   "metadata": {},
   "outputs": [],
   "source": [
    "git clone https://github.com/NVlabs/stylegan2.git\n",
    "cd stylegan2"
   ]
  },
  {
   "cell_type": "markdown",
   "metadata": {},
   "source": [
    "4. **Download Pre-trained Model:**\n",
    "\n",
    "- You need to download a pre-trained model such as <mark>stylegan2-ffhq-config-f.pkl</mark>, which is specifically trained on human faces.\n",
    "- You can find the model on NVIDIA’s official Google Drive [link](https://github.com/NVlabs/stylegan2/blob/master/README.md).\n",
    "- Place the downloaded model in the StyleGAN2 repository directory"
   ]
  }
 ],
 "metadata": {
  "kernelspec": {
   "display_name": "Python 3",
   "language": "python",
   "name": "python3"
  },
  "language_info": {
   "name": "python",
   "version": "3.12.3"
  }
 },
 "nbformat": 4,
 "nbformat_minor": 2
}
